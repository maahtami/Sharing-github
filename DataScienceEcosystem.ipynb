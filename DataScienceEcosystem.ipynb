{
 "cells": [
  {
   "cell_type": "markdown",
   "id": "07e1bfb1",
   "metadata": {},
   "source": [
    "# Data Science Tools and Ecosystem"
   ]
  },
  {
   "cell_type": "markdown",
   "id": "8349592c",
   "metadata": {},
   "source": [
    "In this notebook, Data Science Tools and Ecosystem are summerized."
   ]
  },
  {
   "cell_type": "markdown",
   "id": "be5b99a2",
   "metadata": {},
   "source": [
    "**Objectives:**\n",
    "- Popular languages for Data Scientists\n",
    "- Common libraries used by Data Scientists\n",
    "- Data scientists Tools\n",
    "- Example of Arithmetic expressions"
   ]
  },
  {
   "cell_type": "markdown",
   "id": "4802bd06",
   "metadata": {},
   "source": [
    "Some of the popular languages that Data Scientists use are:\n",
    "\n",
    "1.Python\n",
    "\n",
    "2.R\n",
    "\n",
    "3.SQL\n",
    "\n",
    "4.Java\n",
    "\n",
    "5.Julia\n",
    "\n",
    "6.Scala\n",
    "\n",
    "7.C/C++\n",
    "\n",
    "8.JavaScript\n",
    "\n",
    "9.Swift\n",
    "\n",
    "10.Go\n",
    "\n",
    "11.MATLAB\n",
    "\n",
    "12.SAS\n"
   ]
  },
  {
   "cell_type": "markdown",
   "id": "708f824a",
   "metadata": {},
   "source": [
    "Some of the commonly used libraries used by Data Scientists include:\n",
    "\n",
    "1.TensorFlow\n",
    "\n",
    "2.NumPy\n",
    "\n",
    "3.SciPy\n",
    "\n",
    "4.Pandas\n",
    "\n",
    "5.Matplotlib \n",
    "\n",
    "6.Keras\n",
    "\n",
    "7.SciKit-Learn\n",
    "\n",
    "8.PyTorch\n",
    "\n",
    "9.Scrapy\n",
    "\n",
    "10.BeautifulSoup\n",
    "\n",
    "11.LightGBM\n",
    "\n",
    "12.ELI5\n"
   ]
  },
  {
   "cell_type": "markdown",
   "id": "28a0ea2e",
   "metadata": {},
   "source": [
    "|DataScienceTools|\n",
    "|-----|\n",
    "|RStudio|\n",
    "|Apache Spark|\n",
    "|TensorFlow|"
   ]
  },
  {
   "cell_type": "markdown",
   "id": "9b7a4fad",
   "metadata": {},
   "source": [
    "### Below are a few examples of evaluating arithmetic expressions in Python"
   ]
  },
  {
   "cell_type": "code",
   "execution_count": 3,
   "id": "5a50a46d",
   "metadata": {},
   "outputs": [
    {
     "data": {
      "text/plain": [
       "17"
      ]
     },
     "execution_count": 3,
     "metadata": {},
     "output_type": "execute_result"
    }
   ],
   "source": [
    "#This a simple arithmetic expression to mutipy then add integers.\n",
    "(3*4)+5"
   ]
  },
  {
   "cell_type": "code",
   "execution_count": 4,
   "id": "193fb743",
   "metadata": {},
   "outputs": [
    {
     "data": {
      "text/plain": [
       "3.3333333333333335"
      ]
     },
     "execution_count": 4,
     "metadata": {},
     "output_type": "execute_result"
    }
   ],
   "source": [
    "#This will convert 200 minutes to hours by diving by 60.\n",
    "200/60"
   ]
  },
  {
   "cell_type": "markdown",
   "id": "2050800d",
   "metadata": {},
   "source": [
    "## Author \n",
    "MAHTA MIANDASHTI\n"
   ]
  },
  {
   "cell_type": "code",
   "execution_count": null,
   "id": "a7638b34",
   "metadata": {},
   "outputs": [],
   "source": []
  }
 ],
 "metadata": {
  "kernelspec": {
   "display_name": "Python 3 (ipykernel)",
   "language": "python",
   "name": "python3"
  },
  "language_info": {
   "codemirror_mode": {
    "name": "ipython",
    "version": 3
   },
   "file_extension": ".py",
   "mimetype": "text/x-python",
   "name": "python",
   "nbconvert_exporter": "python",
   "pygments_lexer": "ipython3",
   "version": "3.11.1"
  }
 },
 "nbformat": 4,
 "nbformat_minor": 5
}
